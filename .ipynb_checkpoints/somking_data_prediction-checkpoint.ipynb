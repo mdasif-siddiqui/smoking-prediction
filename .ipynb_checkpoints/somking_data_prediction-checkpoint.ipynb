{
 "cells": [
  {
   "cell_type": "code",
   "execution_count": null,
   "id": "3d7edf48",
   "metadata": {},
   "outputs": [],
   "source": [
    "# importing libraries\n",
    "import pandas as pd\n",
    "import numpy as np\n",
    "from sklearn.preprocessing import StandardScaler\n",
    "from sklearn.model_selection import train_test_split\n",
    "import matplotlib.pyplot as plt\n",
    "import seaborn as sns"
   ]
  },
  {
   "cell_type": "code",
   "execution_count": null,
   "id": "ec7f80ae",
   "metadata": {},
   "outputs": [],
   "source": [
    "# Load the data\n",
    "# give columns name\n",
    "df = pd.read_csv('smoking.csv')\n",
    "print(df.shape)\n",
    "df.head()"
   ]
  },
  {
   "cell_type": "code",
   "execution_count": null,
   "id": "64dda8b7",
   "metadata": {},
   "outputs": [],
   "source": [
    "# Dorp the columns with miss data\n",
    "df.replace('?',np.nan, inplace=True)\n",
    "df = df.dropna()\n",
    "df.head()"
   ]
  },
  {
   "cell_type": "code",
   "execution_count": null,
   "id": "e0f62871",
   "metadata": {},
   "outputs": [],
   "source": [
    "print(df.shape)"
   ]
  },
  {
   "cell_type": "code",
   "execution_count": null,
   "id": "416c134f",
   "metadata": {},
   "outputs": [],
   "source": [
    "df = df.replace({'gender': {'F': 0, 'M': 1}})\n",
    "df = df.replace({'oral': {'Y': 1, 'N': 0}})\n",
    "df = df.replace({'tartar': {'Y': 1, 'N': 0}})\n",
    "df = df.drop('ID',axis=1)\n",
    "df = df.drop('oral',axis=1)\n",
    "df = df.drop('eyesight(left)',axis=1)\n",
    "df = df.drop('eyesight(right)',axis=1)\n",
    "df = df.drop('hearing(left)',axis=1)\n",
    "df = df.drop('hearing(right)',axis=1)\n",
    "df = df.drop('LDL',axis=1)\n",
    "df = df.drop('Urine protein',axis=1)\n",
    "df = df.drop('HDL',axis=1)\n",
    "df = df.drop('Cholesterol',axis=1)\n",
    "df = df.drop('AST',axis=1)"
   ]
  },
  {
   "cell_type": "code",
   "execution_count": null,
   "id": "a50b0bde",
   "metadata": {},
   "outputs": [],
   "source": [
    "df.head()"
   ]
  },
  {
   "cell_type": "code",
   "execution_count": null,
   "id": "f480e34f",
   "metadata": {},
   "outputs": [],
   "source": [
    "# num_list = list(df.columns)\n",
    "num_list = ['age','systolic', 'relaxation', 'height(cm)', 'weight(kg)',\n",
    "       'triglyceride', 'waist(cm)', 'hemoglobin', 'serum creatinine', 'Gtp']\n",
    "fig = plt.figure(figsize=(10,30))\n",
    "\n",
    "for i in range(len(num_list)):\n",
    "    plt.subplot(15,2,i+1)\n",
    "    plt.title(num_list[i])\n",
    "    plt.hist(df[num_list[i]],color='green',alpha=0.5)\n",
    "\n",
    "plt.tight_layout()"
   ]
  },
  {
   "cell_type": "code",
   "execution_count": null,
   "id": "17b1eb2c",
   "metadata": {},
   "outputs": [],
   "source": [
    "num_list4=['age','systolic', 'relaxation', 'height(cm)', 'weight(kg)',\n",
    "       'triglyceride', 'waist(cm)', 'hemoglobin', 'serum creatinine', 'Gtp']\n",
    "fig = plt.figure(figsize=(10,40))\n",
    "\n",
    "for i in range(len(num_list4)):\n",
    "    plt.subplot(11,2,i+1)\n",
    "    plt.title(num_list4[i])\n",
    "    plt.violinplot(df[num_list4[i]])\n",
    "\n",
    "plt.tight_layout()"
   ]
  },
  {
   "cell_type": "code",
   "execution_count": null,
   "id": "52e0bf28",
   "metadata": {
    "scrolled": true
   },
   "outputs": [],
   "source": [
    "# sns.pairplot(df.iloc[:,1:27], hue='smoking')\n",
    "sns.pairplot(df,hue='smoking',vars=['age', 'systolic', 'relaxation', 'height(cm)', 'weight(kg)', 'waist(cm)',\n",
    "       'triglyceride', 'hemoglobin', 'serum creatinine', 'Gtp'])"
   ]
  },
  {
   "cell_type": "code",
   "execution_count": null,
   "id": "9b23c258",
   "metadata": {},
   "outputs": [],
   "source": [
    "# Get the correlation of the columns\n",
    "df.corr()"
   ]
  },
  {
   "cell_type": "code",
   "execution_count": null,
   "id": "035eb7a6",
   "metadata": {},
   "outputs": [],
   "source": [
    "# Visualization the correlation\n",
    "plt.figure(figsize=(20,20))\n",
    "sns.heatmap(df.corr(), annot=True, fmt='.0%')"
   ]
  },
  {
   "cell_type": "code",
   "execution_count": null,
   "id": "bea36fe0",
   "metadata": {},
   "outputs": [],
   "source": [
    "df.describe()"
   ]
  },
  {
   "cell_type": "code",
   "execution_count": null,
   "id": "b58e0d67",
   "metadata": {},
   "outputs": [],
   "source": [
    "df['smoking'].value_counts()"
   ]
  },
  {
   "cell_type": "code",
   "execution_count": null,
   "id": "45f5128a",
   "metadata": {},
   "outputs": [],
   "source": [
    "# df.groupby('smoking').mean()\n",
    "\n",
    "df1=df.groupby('smoking').mean().T\n",
    "df1['gap'] = df1.apply(lambda x: (x[1] - x[0])/x[1]*100, axis = 1)\n",
    "df1.sort_values(by=\"gap\",ascending=False)"
   ]
  },
  {
   "cell_type": "code",
   "execution_count": null,
   "id": "96dc8936",
   "metadata": {},
   "outputs": [],
   "source": [
    "# split the data set into independent (X) and dependent (Y) data set\n",
    "X = df.drop(columns='smoking', axis =1)\n",
    "Y = df['smoking']"
   ]
  },
  {
   "cell_type": "code",
   "execution_count": null,
   "id": "a79765e3",
   "metadata": {},
   "outputs": [],
   "source": [
    "X_train, X_test,Y_train,Y_test = train_test_split(X, Y, test_size=0.25, random_state=0)"
   ]
  },
  {
   "cell_type": "code",
   "execution_count": null,
   "id": "e36d1e6e",
   "metadata": {},
   "outputs": [],
   "source": [
    "# Scale the data (Feature Scaling)\n",
    "sc = StandardScaler()\n",
    "X_train = sc.fit_transform(X_train)\n",
    "X_test =  sc.fit_transform(X_test)\n",
    "# print(X_train)"
   ]
  },
  {
   "cell_type": "code",
   "execution_count": null,
   "id": "82b1bc38",
   "metadata": {},
   "outputs": [],
   "source": [
    "# Crfeate a function for the models\n",
    "def models (X_train, Y_train):\n",
    "\n",
    "    # Logistic Regression\n",
    "    from sklearn.linear_model import LogisticRegression\n",
    "    log = LogisticRegression(random_state=0)\n",
    "    log.fit(X_train, Y_train)\n",
    "    \n",
    "    # Decision Tree\n",
    "    from sklearn.tree import DecisionTreeClassifier\n",
    "    tree = DecisionTreeClassifier(criterion = 'entropy', random_state=0)\n",
    "    tree.fit(X_train, Y_train)\n",
    "    \n",
    "    # Random Forest Classifier\n",
    "    from sklearn.ensemble import RandomForestClassifier\n",
    "    forest = RandomForestClassifier(n_estimators =10, criterion = 'entropy', random_state=0)\n",
    "    forest.fit(X_train, Y_train)\n",
    "    \n",
    "    # Print the models accuracy on the training data\n",
    "    print('[0]Logistic Regression Training Accuracy:', log.score(X_train, Y_train))\n",
    "    print('[1]Decision Tree Training Accuracy:', tree.score(X_train, Y_train))\n",
    "    print('[2]Random Forest Training Accuracy:', forest.score(X_train, Y_train))\n",
    "    \n",
    "    return log, tree, forest"
   ]
  },
  {
   "cell_type": "code",
   "execution_count": null,
   "id": "874a6a25",
   "metadata": {},
   "outputs": [],
   "source": [
    "# Getting all of the models\n",
    "model = models(X_train, Y_train)"
   ]
  },
  {
   "cell_type": "code",
   "execution_count": null,
   "id": "c82468f5",
   "metadata": {},
   "outputs": [],
   "source": [
    "#  test model accuracy on test on confusion matrix\n",
    "from sklearn.metrics import confusion_matrix\n",
    "\n",
    "for i in range( len(model)):\n",
    "    print('Model ', i)\n",
    "    cm = confusion_matrix(Y_test,model[i].predict(X_test))\n",
    "\n",
    "    TP = cm[0][0]\n",
    "    TN = cm[1][1]\n",
    "    FN = cm[1][0]\n",
    "    FP = cm[0][1]\n",
    "\n",
    "    print(cm)\n",
    "    print('Testing Accuracy = ', (TP + TN)/(TP+TN+FN+FP))\n",
    "    print()"
   ]
  },
  {
   "cell_type": "code",
   "execution_count": null,
   "id": "d96b35fe",
   "metadata": {},
   "outputs": [],
   "source": [
    "from sklearn.metrics import classification_report\n",
    "from sklearn.metrics import accuracy_score\n",
    "for i in range( len(model)):\n",
    "    print('Model ', i)\n",
    "    print (classification_report(Y_test,model[i].predict(X_test)))\n",
    "    print(accuracy_score(Y_test,model[i].predict(X_test)))"
   ]
  },
  {
   "cell_type": "code",
   "execution_count": null,
   "id": "9696eeee",
   "metadata": {},
   "outputs": [],
   "source": []
  }
 ],
 "metadata": {
  "kernelspec": {
   "display_name": "Python 3 (ipykernel)",
   "language": "python",
   "name": "python3"
  },
  "language_info": {
   "codemirror_mode": {
    "name": "ipython",
    "version": 3
   },
   "file_extension": ".py",
   "mimetype": "text/x-python",
   "name": "python",
   "nbconvert_exporter": "python",
   "pygments_lexer": "ipython3",
   "version": "3.9.7"
  }
 },
 "nbformat": 4,
 "nbformat_minor": 5
}
